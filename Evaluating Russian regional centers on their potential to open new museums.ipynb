{
 "cells": [
  {
   "cell_type": "markdown",
   "metadata": {},
   "source": [
    "Evaluating Russian regional centers on their potential to open new museums"
   ]
  },
  {
   "cell_type": "markdown",
   "metadata": {},
   "source": [
    "Russia is a big country with more than 70 regions, which are highly diversified. I've decided to evaluate these regions' cultural background, using Foursquare API. My program is aimed at finding out, how many museums each regional center has and which regions have least museums. This would help find out, which regions need to have more museums to attract tourists and bring money to the region. I think that this issue may be interesting for local government, so that they would improve the economic situation in the region. "
   ]
  },
  {
   "cell_type": "markdown",
   "metadata": {},
   "source": [
    "I'm going to use:\n",
    "\n",
    "1) Location data from Foursquare API. CategoryId=4bf58dd8d48988d18194173 (museums). I've written a function, which extracts all the museums for the regional center.\n",
    "\n",
    "2) My own file with regional centers' coordinates, so that I could use their longitude and latitude to work with API.\n",
    "\n",
    "3) Json data on regions' borders for visualization. I've turned it into GeoJson format, so that I could use folium. "
   ]
  }
 ],
 "metadata": {
  "kernelspec": {
   "display_name": "Python 3",
   "language": "python",
   "name": "python3"
  },
  "language_info": {
   "codemirror_mode": {
    "name": "ipython",
    "version": 3
   },
   "file_extension": ".py",
   "mimetype": "text/x-python",
   "name": "python",
   "nbconvert_exporter": "python",
   "pygments_lexer": "ipython3",
   "version": "3.7.1"
  }
 },
 "nbformat": 4,
 "nbformat_minor": 2
}
